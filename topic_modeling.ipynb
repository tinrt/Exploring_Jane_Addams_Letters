{
 "cells": [
  {
   "cell_type": "markdown",
   "metadata": {},
   "source": [
    "# Exploring Jane Addams Letters 1901-1927\n",
    "\n",
    "### MATH-390 | 01 | ADV TOPICS: NETWORK SCIENCE | Professor Beecher\n",
    "\n",
    "### Tina Nosrati\n",
    "### last update: 12/01/2024\n"
   ]
  },
  {
   "cell_type": "code",
   "execution_count": 4,
   "metadata": {},
   "outputs": [],
   "source": [
    "#packages\n",
    "import pandas as pd\n",
    "import re\n",
    "import numpy as np\n",
    "import nltk\n",
    "from nltk.corpus import stopwords\n",
    "from nltk.stem import PorterStemmer, WordNetLemmatizer\n",
    "from nltk.tokenize import word_tokenize\n",
    "from sklearn.feature_extraction.text import TfidfVectorizer\n",
    "from sklearn.metrics.pairwise import cosine_similarity\n",
    "import matplotlib.pyplot as plt\n",
    "import networkx as nx\n",
    "import matplotlib.colors as mcolors\n",
    "import community as community_louvain\n",
    "from sklearn.feature_extraction.text import CountVectorizer\n",
    "from sklearn.decomposition import LatentDirichletAllocation\n",
    "from sklearn.preprocessing import normalize"
   ]
  },
  {
   "cell_type": "code",
   "execution_count": 23,
   "metadata": {},
   "outputs": [],
   "source": [
    "nodes=pd.read_csv('cleaned_data.csv')\n",
    "df_all=pd.read_csv(\"similarity_df_complete.csv\")\n",
    "df_1901_1909=pd.read_csv(\"df_1901_1909.csv\")\n",
    "df_1910_1919=pd.read_csv(\"df_1910_1919.csv\")\n",
    "df_1920_1927=pd.read_csv(\"df_1920_1927.csv\")"
   ]
  },
  {
   "cell_type": "code",
   "execution_count": 9,
   "metadata": {},
   "outputs": [
    {
     "data": {
      "text/html": [
       "<div>\n",
       "<style scoped>\n",
       "    .dataframe tbody tr th:only-of-type {\n",
       "        vertical-align: middle;\n",
       "    }\n",
       "\n",
       "    .dataframe tbody tr th {\n",
       "        vertical-align: top;\n",
       "    }\n",
       "\n",
       "    .dataframe thead th {\n",
       "        text-align: right;\n",
       "    }\n",
       "</style>\n",
       "<table border=\"1\" class=\"dataframe\">\n",
       "  <thead>\n",
       "    <tr style=\"text-align: right;\">\n",
       "      <th></th>\n",
       "      <th>Unnamed: 0</th>\n",
       "      <th>Identifier</th>\n",
       "      <th>Title</th>\n",
       "      <th>Subject</th>\n",
       "      <th>Date</th>\n",
       "      <th>Text</th>\n",
       "      <th>locations</th>\n",
       "      <th>tags</th>\n",
       "    </tr>\n",
       "  </thead>\n",
       "  <tbody>\n",
       "    <tr>\n",
       "      <th>0</th>\n",
       "      <td>0</td>\n",
       "      <td>43341</td>\n",
       "      <td>Jane Addams to Zonja Wallin Lawrence, May 7, 1929</td>\n",
       "      <td>Hull-House, support for;Addams, Jane, gratitude</td>\n",
       "      <td>1927-05-07</td>\n",
       "      <td>hullhous 800 south halst street chicago dear m...</td>\n",
       "      <td>41.8716164,-87.6474573</td>\n",
       "      <td>Hull-House;Thanks</td>\n",
       "    </tr>\n",
       "    <tr>\n",
       "      <th>1</th>\n",
       "      <td>19</td>\n",
       "      <td>42487</td>\n",
       "      <td>Jane Addams to Dorothy Detzer, ca. October 2, ...</td>\n",
       "      <td>Women's International League for Peace and Fre...</td>\n",
       "      <td>1926-10-02</td>\n",
       "      <td>woman intern leagu peac freedom intern offic g...</td>\n",
       "      <td>41.8781136,-87.6297982</td>\n",
       "      <td>Finances;Peace</td>\n",
       "    </tr>\n",
       "    <tr>\n",
       "      <th>2</th>\n",
       "      <td>20</td>\n",
       "      <td>42486</td>\n",
       "      <td>Jane Addams to Hannah Clothier Hull, ca. Octob...</td>\n",
       "      <td>Addams, Jane, requests from;Addams, Jane, and ...</td>\n",
       "      <td>1926-10-02</td>\n",
       "      <td>woman intern leagu peac freedom intern offic g...</td>\n",
       "      <td>41.8781136,-87.6297982</td>\n",
       "      <td>Peace;Requests</td>\n",
       "    </tr>\n",
       "    <tr>\n",
       "      <th>3</th>\n",
       "      <td>21</td>\n",
       "      <td>42485</td>\n",
       "      <td>Jane Addams to Myra Harriet Reynolds Linn, Sep...</td>\n",
       "      <td>Addams, Jane, and family</td>\n",
       "      <td>1926-09-27</td>\n",
       "      <td>12 west walton place sept 271926 dear myra sen...</td>\n",
       "      <td>41.9001602,-87.6290308</td>\n",
       "      <td>Family</td>\n",
       "    </tr>\n",
       "    <tr>\n",
       "      <th>4</th>\n",
       "      <td>24</td>\n",
       "      <td>42466</td>\n",
       "      <td>Jane Addams to Madeleine Zabriskie Doty, Augus...</td>\n",
       "      <td>Addams, Jane, requests from;Women's Internatio...</td>\n",
       "      <td>1926-08-31</td>\n",
       "      <td>dear madelein doti note given cours know noth ...</td>\n",
       "      <td>46.2043907,6.1431577</td>\n",
       "      <td>Peace;Requests</td>\n",
       "    </tr>\n",
       "    <tr>\n",
       "      <th>...</th>\n",
       "      <td>...</td>\n",
       "      <td>...</td>\n",
       "      <td>...</td>\n",
       "      <td>...</td>\n",
       "      <td>...</td>\n",
       "      <td>...</td>\n",
       "      <td>...</td>\n",
       "      <td>...</td>\n",
       "    </tr>\n",
       "    <tr>\n",
       "      <th>1311</th>\n",
       "      <td>3888</td>\n",
       "      <td>103</td>\n",
       "      <td>Jane Addams to Richard Theodore Ely, February ...</td>\n",
       "      <td>Addams, Jane, requests from;Hull-House, visits to</td>\n",
       "      <td>1901-02-26</td>\n",
       "      <td>hullhous 335 south halst street chicago dear m...</td>\n",
       "      <td>41.8716782,-87.6474517</td>\n",
       "      <td>Hull-House Visits;Requests</td>\n",
       "    </tr>\n",
       "    <tr>\n",
       "      <th>1312</th>\n",
       "      <td>3893</td>\n",
       "      <td>76</td>\n",
       "      <td>Jane Addams to Florence Kelley, February 10, 1901</td>\n",
       "      <td>Addams, Jane, relationship with Florence Kelle...</td>\n",
       "      <td>1901-02-10</td>\n",
       "      <td>hullhous 335 south halst street chicago dear s...</td>\n",
       "      <td>41.8716782,-87.6474517</td>\n",
       "      <td>Friends</td>\n",
       "    </tr>\n",
       "    <tr>\n",
       "      <th>1313</th>\n",
       "      <td>3897</td>\n",
       "      <td>63</td>\n",
       "      <td>Jane Addams to Sarah Alice Addams Haldeman, Ja...</td>\n",
       "      <td>Addams, Jane, and family</td>\n",
       "      <td>1901-01-30</td>\n",
       "      <td>hullhous 335 south halst street chicago dear a...</td>\n",
       "      <td>41.8716782,-87.6474517</td>\n",
       "      <td>Family</td>\n",
       "    </tr>\n",
       "    <tr>\n",
       "      <th>1314</th>\n",
       "      <td>3898</td>\n",
       "      <td>59</td>\n",
       "      <td>Jane Addams to Anita McCormick Blaine, January...</td>\n",
       "      <td>Addams, Jane, writing</td>\n",
       "      <td>1901-01-17</td>\n",
       "      <td>hullhous 335 south halst street chicago dear m...</td>\n",
       "      <td>41.8716782,-87.6474517</td>\n",
       "      <td>Lectures</td>\n",
       "    </tr>\n",
       "    <tr>\n",
       "      <th>1315</th>\n",
       "      <td>3899</td>\n",
       "      <td>56</td>\n",
       "      <td>Jane Addams to Stella R. Sax, January 14, 1901</td>\n",
       "      <td>Addams, Jane, speaking tours</td>\n",
       "      <td>1901-01-14</td>\n",
       "      <td>hullhous 335 south halst street chicago dear m...</td>\n",
       "      <td>41.8716782,-87.6474517</td>\n",
       "      <td>Lectures</td>\n",
       "    </tr>\n",
       "  </tbody>\n",
       "</table>\n",
       "<p>1316 rows × 8 columns</p>\n",
       "</div>"
      ],
      "text/plain": [
       "      Unnamed: 0  Identifier  \\\n",
       "0              0       43341   \n",
       "1             19       42487   \n",
       "2             20       42486   \n",
       "3             21       42485   \n",
       "4             24       42466   \n",
       "...          ...         ...   \n",
       "1311        3888         103   \n",
       "1312        3893          76   \n",
       "1313        3897          63   \n",
       "1314        3898          59   \n",
       "1315        3899          56   \n",
       "\n",
       "                                                  Title  \\\n",
       "0     Jane Addams to Zonja Wallin Lawrence, May 7, 1929   \n",
       "1     Jane Addams to Dorothy Detzer, ca. October 2, ...   \n",
       "2     Jane Addams to Hannah Clothier Hull, ca. Octob...   \n",
       "3     Jane Addams to Myra Harriet Reynolds Linn, Sep...   \n",
       "4     Jane Addams to Madeleine Zabriskie Doty, Augus...   \n",
       "...                                                 ...   \n",
       "1311  Jane Addams to Richard Theodore Ely, February ...   \n",
       "1312  Jane Addams to Florence Kelley, February 10, 1901   \n",
       "1313  Jane Addams to Sarah Alice Addams Haldeman, Ja...   \n",
       "1314  Jane Addams to Anita McCormick Blaine, January...   \n",
       "1315     Jane Addams to Stella R. Sax, January 14, 1901   \n",
       "\n",
       "                                                Subject        Date  \\\n",
       "0       Hull-House, support for;Addams, Jane, gratitude  1927-05-07   \n",
       "1     Women's International League for Peace and Fre...  1926-10-02   \n",
       "2     Addams, Jane, requests from;Addams, Jane, and ...  1926-10-02   \n",
       "3                              Addams, Jane, and family  1926-09-27   \n",
       "4     Addams, Jane, requests from;Women's Internatio...  1926-08-31   \n",
       "...                                                 ...         ...   \n",
       "1311  Addams, Jane, requests from;Hull-House, visits to  1901-02-26   \n",
       "1312  Addams, Jane, relationship with Florence Kelle...  1901-02-10   \n",
       "1313                           Addams, Jane, and family  1901-01-30   \n",
       "1314                              Addams, Jane, writing  1901-01-17   \n",
       "1315                       Addams, Jane, speaking tours  1901-01-14   \n",
       "\n",
       "                                                   Text  \\\n",
       "0     hullhous 800 south halst street chicago dear m...   \n",
       "1     woman intern leagu peac freedom intern offic g...   \n",
       "2     woman intern leagu peac freedom intern offic g...   \n",
       "3     12 west walton place sept 271926 dear myra sen...   \n",
       "4     dear madelein doti note given cours know noth ...   \n",
       "...                                                 ...   \n",
       "1311  hullhous 335 south halst street chicago dear m...   \n",
       "1312  hullhous 335 south halst street chicago dear s...   \n",
       "1313  hullhous 335 south halst street chicago dear a...   \n",
       "1314  hullhous 335 south halst street chicago dear m...   \n",
       "1315  hullhous 335 south halst street chicago dear m...   \n",
       "\n",
       "                   locations                        tags  \n",
       "0     41.8716164,-87.6474573           Hull-House;Thanks  \n",
       "1     41.8781136,-87.6297982              Finances;Peace  \n",
       "2     41.8781136,-87.6297982              Peace;Requests  \n",
       "3     41.9001602,-87.6290308                      Family  \n",
       "4       46.2043907,6.1431577              Peace;Requests  \n",
       "...                      ...                         ...  \n",
       "1311  41.8716782,-87.6474517  Hull-House Visits;Requests  \n",
       "1312  41.8716782,-87.6474517                     Friends  \n",
       "1313  41.8716782,-87.6474517                      Family  \n",
       "1314  41.8716782,-87.6474517                    Lectures  \n",
       "1315  41.8716782,-87.6474517                    Lectures  \n",
       "\n",
       "[1316 rows x 8 columns]"
      ]
     },
     "execution_count": 9,
     "metadata": {},
     "output_type": "execute_result"
    }
   ],
   "source": [
    "nodes"
   ]
  },
  {
   "cell_type": "code",
   "execution_count": 19,
   "metadata": {},
   "outputs": [],
   "source": [
    "def topic_modeling(df, num_topics=5, num_words=5, letter_words=None):\n",
    "    # Ensure 'Text' column exists\n",
    "    if 'Text' not in df.columns:\n",
    "        raise ValueError(\"The DataFrame must contain a 'Text' column.\")\n",
    "    \n",
    "    # Preprocess text: Remove NaN and empty values\n",
    "    text_data = df['Text'].dropna().tolist()\n",
    "    \n",
    "    # Default letter-related words to remove\n",
    "    letter_words = letter_words or [\n",
    "        'dear', 'sincerely', 'regards', 'yours', 'truly', \n",
    "        'letter', 'address', 'correspondence', 'missive', \n",
    "        'page', 'send', 'numbers','chicago', 'mr', 'hullhous', 'street', 'addam', 'dear', 'miss',\n",
    "        'south', 'halst', '800', 'sign'\n",
    "    ]\n",
    "    \n",
    "    # Vectorize text with custom stop words\n",
    "    vectorizer = CountVectorizer(stop_words=letter_words, max_df=0.95, min_df=2)\n",
    "    dtm = vectorizer.fit_transform(text_data)\n",
    "    \n",
    "    # Fit LDA model\n",
    "    lda = LatentDirichletAllocation(n_components=num_topics, random_state=42)\n",
    "    lda.fit(dtm)\n",
    "    \n",
    "    # Extract topics\n",
    "    topics = []\n",
    "    feature_names = vectorizer.get_feature_names_out()\n",
    "    for idx, topic in enumerate(lda.components_):\n",
    "        top_words = [feature_names[i] for i in topic.argsort()[:-num_words - 1:-1]]\n",
    "        topics.append(f\"Topic {idx + 1}: \" + \", \".join(top_words))\n",
    "    \n",
    "    return topics\n"
   ]
  },
  {
   "cell_type": "code",
   "execution_count": 21,
   "metadata": {},
   "outputs": [
    {
     "name": "stdout",
     "output_type": "stream",
     "text": [
      "['Topic 1: jane, hastili, one, alway, may', 'Topic 2: sincer, may, jane, thank, faith', 'Topic 3: jane, alway, love, come, much', 'Topic 4: peac, woman, meet, parti, committe', 'Topic 5: would, intern, offic, woman, peac']\n"
     ]
    }
   ],
   "source": [
    "topics = topic_modeling(nodes)\n",
    "print(topics)"
   ]
  },
  {
   "cell_type": "markdown",
   "metadata": {},
   "source": [
    "Personal Reflections or Daily Musings\n",
    "\n",
    "Gratitude and Faith\n",
    "\n",
    "Love and Relationships\n",
    "\n",
    "Peace and Social Gatherings\n",
    "\n",
    "Women’s Peace Efforts"
   ]
  },
  {
   "cell_type": "code",
   "execution_count": 24,
   "metadata": {},
   "outputs": [
    {
     "name": "stdout",
     "output_type": "stream",
     "text": [
      "['Topic 1: jane, 335, much, one, come', 'Topic 2: go, come, alway, love, summer', 'Topic 3: aug, 335, jane, year, faith', 'Topic 4: 335, jane, may, come, march', 'Topic 5: love, alic, marcet, come, alway']\n"
     ]
    }
   ],
   "source": [
    "topics = topic_modeling(df_1901_1909)\n",
    "print(topics)"
   ]
  },
  {
   "cell_type": "markdown",
   "metadata": {},
   "source": [
    "Jane and Personal Reflections\n",
    "\n",
    "Seasonal Experiences and Affection\n",
    "\n",
    "Faith and Yearly Events\n",
    "\n",
    "Dates and Jane's Activities\n",
    "\n",
    "Love and Relationships"
   ]
  },
  {
   "cell_type": "code",
   "execution_count": 25,
   "metadata": {},
   "outputs": [
    {
     "name": "stdout",
     "output_type": "stream",
     "text": [
      "['Topic 1: jane, much, sincer, hope, new', 'Topic 2: peac, woman, offic, secretari, parti', 'Topic 3: jane, would, think, new, much', 'Topic 4: jane, alway, love, hope, come', 'Topic 5: meet, peac, woman, new, committe']\n"
     ]
    }
   ],
   "source": [
    "topics = topic_modeling(df_1910_1919)\n",
    "print(topics)"
   ]
  },
  {
   "cell_type": "markdown",
   "metadata": {},
   "source": [
    "Jane's Hopes and Sincerity\n",
    "\n",
    "Women's Peace and Organizational Work\n",
    "\n",
    "Jane's Thoughts and Reflections\n",
    "\n",
    "Love, Hope, and Personal Connections\n",
    "\n",
    "Meetings and Peace Committees"
   ]
  },
  {
   "cell_type": "code",
   "execution_count": 26,
   "metadata": {},
   "outputs": [
    {
     "name": "stdout",
     "output_type": "stream",
     "text": [
      "['Topic 1: jane, faith, new, year, thank', 'Topic 2: intern, would, jane, woman, one', 'Topic 3: jane, love, alway, aunt, littl', 'Topic 4: intern, peac, woman, may, leagu', 'Topic 5: intern, geneva, woman, jane, sent']\n"
     ]
    }
   ],
   "source": [
    "topics = topic_modeling(df_1920_1927)\n",
    "print(topics)"
   ]
  },
  {
   "cell_type": "markdown",
   "metadata": {},
   "source": [
    "Gratitude, Faith, and New Beginnings\n",
    "\n",
    "Women's Role in International Affairs\n",
    "\n",
    "Love, Family, and Personal Bonds\n",
    "\n",
    "International Peace and Women's League\n",
    "\n",
    "Geneva and International Communication"
   ]
  }
 ],
 "metadata": {
  "kernelspec": {
   "display_name": "Python 3",
   "language": "python",
   "name": "python3"
  },
  "language_info": {
   "codemirror_mode": {
    "name": "ipython",
    "version": 3
   },
   "file_extension": ".py",
   "mimetype": "text/x-python",
   "name": "python",
   "nbconvert_exporter": "python",
   "pygments_lexer": "ipython3",
   "version": "3.10.4"
  }
 },
 "nbformat": 4,
 "nbformat_minor": 2
}
